{
 "cells": [
  {
   "cell_type": "markdown",
   "metadata": {},
   "source": [
    "# FinBERT Example Notebook\n",
    "\n",
    "This notebooks shows how to train and use the FinBERT pre-trained language model for financial sentiment analysis."
   ]
  },
  {
   "cell_type": "markdown",
   "metadata": {},
   "source": [
    "## Modules "
   ]
  },
  {
   "cell_type": "code",
   "execution_count": 1,
   "metadata": {
    "ExecuteTime": {
     "end_time": "2020-03-23T15:55:04.902740Z",
     "start_time": "2020-03-23T15:55:04.876252Z"
    }
   },
   "outputs": [
    {
     "output_type": "stream",
     "name": "stderr",
     "text": [
      "<ipython-input-1-ce2e9558c130>:21: FutureWarning: Passing a negative integer is deprecated in version 1.0 and will not be supported in future version. Instead, use None to not limit the column width.\n  pd.set_option('max_colwidth', -1)\n"
     ]
    }
   ],
   "source": [
    "from pathlib import Path\n",
    "import shutil\n",
    "import os\n",
    "import logging\n",
    "import sys\n",
    "sys.path.append('..')\n",
    "\n",
    "from textblob import TextBlob\n",
    "from pprint import pprint\n",
    "from sklearn.metrics import classification_report\n",
    "\n",
    "from transformers import AutoModelForSequenceClassification\n",
    "\n",
    "from finbert.finbert import *\n",
    "import finbert.utils as tools\n",
    "\n",
    "%load_ext autoreload\n",
    "%autoreload 2\n",
    "\n",
    "project_dir = Path.cwd().parent\n",
    "pd.set_option('max_colwidth', -1)"
   ]
  },
  {
   "cell_type": "markdown",
   "metadata": {},
   "source": [
    "# Get predictions"
   ]
  },
  {
   "cell_type": "markdown",
   "metadata": {},
   "source": [
    "With the `predict` function, given a piece of text, we split it into a list of sentences and then predict sentiment for each sentence. The output is written into a dataframe. Predictions are represented in three different columns: \n",
    "\n",
    "1) `logit`: probabilities for each class\n",
    "\n",
    "2) `prediction`: predicted label\n",
    "\n",
    "3) `sentiment_score`: sentiment score calculated as: probability of positive - probability of negative\n",
    "\n",
    "Below we analyze a paragraph taken out of [this](https://www.economist.com/finance-and-economics/2019/01/03/a-profit-warning-from-apple-jolts-markets) article from The Economist. For comparison purposes, we also put the sentiments predicted with TextBlob.\n",
    "> Later that day Apple said it was revising down its earnings expectations in the fourth quarter of 2018, largely because of lower sales and signs of economic weakness in China. The news rapidly infected financial markets. Apple’s share price fell by around 7% in after-hours trading and the decline was extended to more than 10% when the market opened. The dollar fell by 3.7% against the yen in a matter of minutes after the announcement, before rapidly recovering some ground. Asian stockmarkets closed down on January 3rd and European ones opened lower. Yields on government bonds fell as investors fled to the traditional haven in a market storm."
   ]
  },
  {
   "cell_type": "code",
   "execution_count": 2,
   "metadata": {},
   "outputs": [
    {
     "output_type": "stream",
     "name": "stderr",
     "text": [
      "[nltk_data] Downloading package punkt to /Users/kakao/nltk_data...\n[nltk_data]   Package punkt is already up-to-date!\n"
     ]
    },
    {
     "output_type": "execute_result",
     "data": {
      "text/plain": [
       "True"
      ]
     },
     "metadata": {},
     "execution_count": 2
    }
   ],
   "source": [
    "df = pd.read_csv(\"scrap_table.csv\")\n",
    "\n",
    "cl_path = project_dir/'finbert'/'models'/'classifier_model'/'finbert-sentiment'\n",
    "model = AutoModelForSequenceClassification.from_pretrained(cl_path, cache_dir=None, num_labels=3)\n",
    "\n",
    "import nltk\n",
    "nltk.download('punkt')"
   ]
  },
  {
   "cell_type": "code",
   "execution_count": 3,
   "metadata": {
    "tags": [
     "outputPrepend"
    ]
   },
   "outputs": [
    {
     "output_type": "stream",
     "name": "stderr",
     "text": [
      " 0 0 0 0 0 0 0 0 0 0 0\n",
      "06/05/2021 22:45:00 - INFO - finbert.utils -   token_type_ids: 0 0 0 0 0 0 0 0 0 0 0 0 0 0 0 0 0 0 0 0 0 0 0 0 0 0 0 0 0 0 0 0 0 0 0 0 0 0 0 0 0 0 0 0 0 0 0 0 0 0 0 0 0 0 0 0 0 0 0 0 0 0 0 0\n",
      "06/05/2021 22:45:00 - INFO - finbert.utils -   label: None (id = 9090)\n",
      "06/05/2021 22:45:01 - INFO - root -   tensor([[-1.9169, -0.8279,  2.3887]])\n",
      "06/05/2021 22:45:05 - INFO - finbert.utils -   *** Example ***\n",
      "06/05/2021 22:45:05 - INFO - finbert.utils -   guid: 0\n",
      "06/05/2021 22:45:05 - INFO - finbert.utils -   tokens: [CLS] apple ( aa ##pl ) upgraded to strong buy : here ' s why [SEP]\n",
      "06/05/2021 22:45:05 - INFO - finbert.utils -   input_ids: 101 6207 1006 9779 24759 1007 9725 2000 2844 4965 1024 2182 1005 1055 2339 102 0 0 0 0 0 0 0 0 0 0 0 0 0 0 0 0 0 0 0 0 0 0 0 0 0 0 0 0 0 0 0 0 0 0 0 0 0 0 0 0 0 0 0 0 0 0 0 0\n",
      "06/05/2021 22:45:05 - INFO - finbert.utils -   attention_mask: 1 1 1 1 1 1 1 1 1 1 1 1 1 1 1 1 0 0 0 0 0 0 0 0 0 0 0 0 0 0 0 0 0 0 0 0 0 0 0 0 0 0 0 0 0 0 0 0 0 0 0 0 0 0 0 0 0 0 0 0 0 0 0 0\n",
      "06/05/2021 22:45:05 - INFO - finbert.utils -   token_type_ids: 0 0 0 0 0 0 0 0 0 0 0 0 0 0 0 0 0 0 0 0 0 0 0 0 0 0 0 0 0 0 0 0 0 0 0 0 0 0 0 0 0 0 0 0 0 0 0 0 0 0 0 0 0 0 0 0 0 0 0 0 0 0 0 0\n",
      "06/05/2021 22:45:05 - INFO - finbert.utils -   label: None (id = 9090)\n",
      "06/05/2021 22:45:06 - INFO - root -   tensor([[ 2.3089, -2.1989,  0.5568]])\n",
      "06/05/2021 22:45:10 - INFO - finbert.utils -   *** Example ***\n",
      "06/05/2021 22:45:10 - INFO - finbert.utils -   guid: 0\n",
      "06/05/2021 22:45:10 - INFO - finbert.utils -   tokens: [CLS] apple ( aa ##pl ) : bull of the day [SEP]\n",
      "06/05/2021 22:45:10 - INFO - finbert.utils -   input_ids: 101 6207 1006 9779 24759 1007 1024 7087 1997 1996 2154 102 0 0 0 0 0 0 0 0 0 0 0 0 0 0 0 0 0 0 0 0 0 0 0 0 0 0 0 0 0 0 0 0 0 0 0 0 0 0 0 0 0 0 0 0 0 0 0 0 0 0 0 0\n",
      "06/05/2021 22:45:10 - INFO - finbert.utils -   attention_mask: 1 1 1 1 1 1 1 1 1 1 1 1 0 0 0 0 0 0 0 0 0 0 0 0 0 0 0 0 0 0 0 0 0 0 0 0 0 0 0 0 0 0 0 0 0 0 0 0 0 0 0 0 0 0 0 0 0 0 0 0 0 0 0 0\n",
      "06/05/2021 22:45:10 - INFO - finbert.utils -   token_type_ids: 0 0 0 0 0 0 0 0 0 0 0 0 0 0 0 0 0 0 0 0 0 0 0 0 0 0 0 0 0 0 0 0 0 0 0 0 0 0 0 0 0 0 0 0 0 0 0 0 0 0 0 0 0 0 0 0 0 0 0 0 0 0 0 0\n",
      "06/05/2021 22:45:10 - INFO - finbert.utils -   label: None (id = 9090)\n",
      "06/05/2021 22:45:10 - INFO - root -   tensor([[ 1.9819, -1.6533,  0.0169]])\n",
      "06/05/2021 22:45:15 - INFO - finbert.utils -   *** Example ***\n",
      "06/05/2021 22:45:15 - INFO - finbert.utils -   guid: 0\n",
      "06/05/2021 22:45:15 - INFO - finbert.utils -   tokens: [CLS] apple inc . ' s ( nas ##da ##q : aa ##pl ) share price not quite adding up [SEP]\n",
      "06/05/2021 22:45:15 - INFO - finbert.utils -   input_ids: 101 6207 4297 1012 1005 1055 1006 17235 2850 4160 1024 9779 24759 1007 3745 3976 2025 3243 5815 2039 102 0 0 0 0 0 0 0 0 0 0 0 0 0 0 0 0 0 0 0 0 0 0 0 0 0 0 0 0 0 0 0 0 0 0 0 0 0 0 0 0 0 0 0\n",
      "06/05/2021 22:45:15 - INFO - finbert.utils -   attention_mask: 1 1 1 1 1 1 1 1 1 1 1 1 1 1 1 1 1 1 1 1 1 0 0 0 0 0 0 0 0 0 0 0 0 0 0 0 0 0 0 0 0 0 0 0 0 0 0 0 0 0 0 0 0 0 0 0 0 0 0 0 0 0 0 0\n",
      "06/05/2021 22:45:15 - INFO - finbert.utils -   token_type_ids: 0 0 0 0 0 0 0 0 0 0 0 0 0 0 0 0 0 0 0 0 0 0 0 0 0 0 0 0 0 0 0 0 0 0 0 0 0 0 0 0 0 0 0 0 0 0 0 0 0 0 0 0 0 0 0 0 0 0 0 0 0 0 0 0\n",
      "06/05/2021 22:45:15 - INFO - finbert.utils -   label: None (id = 9090)\n",
      "06/05/2021 22:45:15 - INFO - root -   tensor([[-1.2572,  1.7901, -0.9381]])\n",
      "06/05/2021 22:45:20 - INFO - finbert.utils -   *** Example ***\n",
      "06/05/2021 22:45:20 - INFO - finbert.utils -   guid: 0\n",
      "06/05/2021 22:45:20 - INFO - finbert.utils -   tokens: [CLS] apple inc ( aa ##pl ) ceo timothy d cook sold $ 131 . 8 million of shares [SEP]\n",
      "06/05/2021 22:45:20 - INFO - finbert.utils -   input_ids: 101 6207 4297 1006 9779 24759 1007 5766 10805 1040 5660 2853 1002 14677 1012 1022 2454 1997 6661 102 0 0 0 0 0 0 0 0 0 0 0 0 0 0 0 0 0 0 0 0 0 0 0 0 0 0 0 0 0 0 0 0 0 0 0 0 0 0 0 0 0 0 0 0\n",
      "06/05/2021 22:45:20 - INFO - finbert.utils -   attention_mask: 1 1 1 1 1 1 1 1 1 1 1 1 1 1 1 1 1 1 1 1 0 0 0 0 0 0 0 0 0 0 0 0 0 0 0 0 0 0 0 0 0 0 0 0 0 0 0 0 0 0 0 0 0 0 0 0 0 0 0 0 0 0 0 0\n",
      "06/05/2021 22:45:20 - INFO - finbert.utils -   token_type_ids: 0 0 0 0 0 0 0 0 0 0 0 0 0 0 0 0 0 0 0 0 0 0 0 0 0 0 0 0 0 0 0 0 0 0 0 0 0 0 0 0 0 0 0 0 0 0 0 0 0 0 0 0 0 0 0 0 0 0 0 0 0 0 0 0\n",
      "06/05/2021 22:45:20 - INFO - finbert.utils -   label: None (id = 9090)\n",
      "06/05/2021 22:45:20 - INFO - root -   tensor([[-1.7962, -0.7268,  2.6491]])\n",
      "06/05/2021 22:45:25 - INFO - finbert.utils -   *** Example ***\n",
      "06/05/2021 22:45:25 - INFO - finbert.utils -   guid: 0\n",
      "06/05/2021 22:45:25 - INFO - finbert.utils -   tokens: [CLS] apple ( aa ##pl ) has risen 98 % in last one year , out ##per ##forms market [SEP]\n",
      "06/05/2021 22:45:25 - INFO - finbert.utils -   input_ids: 101 6207 1006 9779 24759 1007 2038 13763 5818 1003 1999 2197 2028 2095 1010 2041 4842 22694 3006 102 0 0 0 0 0 0 0 0 0 0 0 0 0 0 0 0 0 0 0 0 0 0 0 0 0 0 0 0 0 0 0 0 0 0 0 0 0 0 0 0 0 0 0 0\n",
      "06/05/2021 22:45:25 - INFO - finbert.utils -   attention_mask: 1 1 1 1 1 1 1 1 1 1 1 1 1 1 1 1 1 1 1 1 0 0 0 0 0 0 0 0 0 0 0 0 0 0 0 0 0 0 0 0 0 0 0 0 0 0 0 0 0 0 0 0 0 0 0 0 0 0 0 0 0 0 0 0\n",
      "06/05/2021 22:45:25 - INFO - finbert.utils -   token_type_ids: 0 0 0 0 0 0 0 0 0 0 0 0 0 0 0 0 0 0 0 0 0 0 0 0 0 0 0 0 0 0 0 0 0 0 0 0 0 0 0 0 0 0 0 0 0 0 0 0 0 0 0 0 0 0 0 0 0 0 0 0 0 0 0 0\n",
      "06/05/2021 22:45:25 - INFO - finbert.utils -   label: None (id = 9090)\n",
      "06/05/2021 22:45:25 - INFO - root -   tensor([[ 2.9582, -0.9283, -1.4755]])\n",
      "06/05/2021 22:45:30 - INFO - finbert.utils -   *** Example ***\n",
      "06/05/2021 22:45:30 - INFO - finbert.utils -   guid: 0\n",
      "06/05/2021 22:45:30 - INFO - finbert.utils -   tokens: [CLS] brace yourself for a sharp rise in inflation [SEP]\n",
      "06/05/2021 22:45:30 - INFO - finbert.utils -   input_ids: 101 17180 4426 2005 1037 4629 4125 1999 14200 102 0 0 0 0 0 0 0 0 0 0 0 0 0 0 0 0 0 0 0 0 0 0 0 0 0 0 0 0 0 0 0 0 0 0 0 0 0 0 0 0 0 0 0 0 0 0 0 0 0 0 0 0 0 0\n",
      "06/05/2021 22:45:30 - INFO - finbert.utils -   attention_mask: 1 1 1 1 1 1 1 1 1 1 0 0 0 0 0 0 0 0 0 0 0 0 0 0 0 0 0 0 0 0 0 0 0 0 0 0 0 0 0 0 0 0 0 0 0 0 0 0 0 0 0 0 0 0 0 0 0 0 0 0 0 0 0 0\n",
      "06/05/2021 22:45:30 - INFO - finbert.utils -   token_type_ids: 0 0 0 0 0 0 0 0 0 0 0 0 0 0 0 0 0 0 0 0 0 0 0 0 0 0 0 0 0 0 0 0 0 0 0 0 0 0 0 0 0 0 0 0 0 0 0 0 0 0 0 0 0 0 0 0 0 0 0 0 0 0 0 0\n",
      "06/05/2021 22:45:30 - INFO - finbert.utils -   label: None (id = 9090)\n",
      "06/05/2021 22:45:30 - INFO - root -   tensor([[-0.5615,  0.1599,  0.7805]])\n",
      "06/05/2021 22:45:35 - INFO - finbert.utils -   *** Example ***\n",
      "06/05/2021 22:45:35 - INFO - finbert.utils -   guid: 0\n",
      "06/05/2021 22:45:35 - INFO - finbert.utils -   tokens: [CLS] tesla gets $ 2 , 500 3 - year target from munster , but analyst sees apple as a road ##block in ev maker ' s path [SEP]\n",
      "06/05/2021 22:45:35 - INFO - finbert.utils -   input_ids: 101 26060 4152 1002 1016 1010 3156 1017 1011 2095 4539 2013 11348 1010 2021 12941 5927 6207 2004 1037 2346 23467 1999 23408 9338 1005 1055 4130 102 0 0 0 0 0 0 0 0 0 0 0 0 0 0 0 0 0 0 0 0 0 0 0 0 0 0 0 0 0 0 0 0 0 0 0\n",
      "06/05/2021 22:45:35 - INFO - finbert.utils -   attention_mask: 1 1 1 1 1 1 1 1 1 1 1 1 1 1 1 1 1 1 1 1 1 1 1 1 1 1 1 1 1 0 0 0 0 0 0 0 0 0 0 0 0 0 0 0 0 0 0 0 0 0 0 0 0 0 0 0 0 0 0 0 0 0 0 0\n",
      "06/05/2021 22:45:35 - INFO - finbert.utils -   token_type_ids: 0 0 0 0 0 0 0 0 0 0 0 0 0 0 0 0 0 0 0 0 0 0 0 0 0 0 0 0 0 0 0 0 0 0 0 0 0 0 0 0 0 0 0 0 0 0 0 0 0 0 0 0 0 0 0 0 0 0 0 0 0 0 0 0\n",
      "06/05/2021 22:45:35 - INFO - finbert.utils -   label: None (id = 9090)\n",
      "06/05/2021 22:45:35 - INFO - root -   tensor([[-0.3020,  0.0810,  0.2238]])\n",
      "06/05/2021 22:45:40 - INFO - finbert.utils -   *** Example ***\n",
      "06/05/2021 22:45:40 - INFO - finbert.utils -   guid: 0\n",
      "06/05/2021 22:45:40 - INFO - finbert.utils -   tokens: [CLS] exclusive : apple targets car production by 202 ##4 and eyes ' next level ' battery technology - sources [SEP]\n",
      "06/05/2021 22:45:40 - INFO - finbert.utils -   input_ids: 101 7262 1024 6207 7889 2482 2537 2011 16798 2549 1998 2159 1005 2279 2504 1005 6046 2974 1011 4216 102 0 0 0 0 0 0 0 0 0 0 0 0 0 0 0 0 0 0 0 0 0 0 0 0 0 0 0 0 0 0 0 0 0 0 0 0 0 0 0 0 0 0 0\n",
      "06/05/2021 22:45:40 - INFO - finbert.utils -   attention_mask: 1 1 1 1 1 1 1 1 1 1 1 1 1 1 1 1 1 1 1 1 1 0 0 0 0 0 0 0 0 0 0 0 0 0 0 0 0 0 0 0 0 0 0 0 0 0 0 0 0 0 0 0 0 0 0 0 0 0 0 0 0 0 0 0\n",
      "06/05/2021 22:45:40 - INFO - finbert.utils -   token_type_ids: 0 0 0 0 0 0 0 0 0 0 0 0 0 0 0 0 0 0 0 0 0 0 0 0 0 0 0 0 0 0 0 0 0 0 0 0 0 0 0 0 0 0 0 0 0 0 0 0 0 0 0 0 0 0 0 0 0 0 0 0 0 0 0 0\n",
      "06/05/2021 22:45:40 - INFO - finbert.utils -   label: None (id = 9090)\n",
      "06/05/2021 22:45:40 - INFO - root -   tensor([[-1.1665, -1.4169,  2.8758]])\n",
      "06/05/2021 22:45:45 - INFO - finbert.utils -   *** Example ***\n",
      "06/05/2021 22:45:45 - INFO - finbert.utils -   guid: 0\n",
      "06/05/2021 22:45:45 - INFO - finbert.utils -   tokens: [CLS] apple reportedly working on an electric car sends the stock of this bill gates - backed battery startup sur ##ging [SEP]\n",
      "06/05/2021 22:45:45 - INFO - finbert.utils -   input_ids: 101 6207 7283 2551 2006 2019 3751 2482 10255 1996 4518 1997 2023 3021 6733 1011 6153 6046 22752 7505 4726 102 0 0 0 0 0 0 0 0 0 0 0 0 0 0 0 0 0 0 0 0 0 0 0 0 0 0 0 0 0 0 0 0 0 0 0 0 0 0 0 0 0 0\n",
      "06/05/2021 22:45:45 - INFO - finbert.utils -   attention_mask: 1 1 1 1 1 1 1 1 1 1 1 1 1 1 1 1 1 1 1 1 1 1 0 0 0 0 0 0 0 0 0 0 0 0 0 0 0 0 0 0 0 0 0 0 0 0 0 0 0 0 0 0 0 0 0 0 0 0 0 0 0 0 0 0\n",
      "06/05/2021 22:45:45 - INFO - finbert.utils -   token_type_ids: 0 0 0 0 0 0 0 0 0 0 0 0 0 0 0 0 0 0 0 0 0 0 0 0 0 0 0 0 0 0 0 0 0 0 0 0 0 0 0 0 0 0 0 0 0 0 0 0 0 0 0 0 0 0 0 0 0 0 0 0 0 0 0 0\n",
      "06/05/2021 22:45:45 - INFO - finbert.utils -   label: None (id = 9090)\n",
      "06/05/2021 22:45:45 - INFO - root -   tensor([[-1.5557,  2.2258, -1.0021]])\n",
      "06/05/2021 22:45:50 - INFO - finbert.utils -   *** Example ***\n",
      "06/05/2021 22:45:50 - INFO - finbert.utils -   guid: 0\n",
      "06/05/2021 22:45:50 - INFO - finbert.utils -   tokens: [CLS] stock market news live updates : stocks wall ##oped as september selling sets in ; tech stocks sw ##oon [SEP]\n",
      "06/05/2021 22:45:50 - INFO - finbert.utils -   input_ids: 101 4518 3006 2739 2444 14409 1024 15768 2813 24174 2004 2244 4855 4520 1999 1025 6627 15768 25430 7828 102 0 0 0 0 0 0 0 0 0 0 0 0 0 0 0 0 0 0 0 0 0 0 0 0 0 0 0 0 0 0 0 0 0 0 0 0 0 0 0 0 0 0 0\n",
      "06/05/2021 22:45:50 - INFO - finbert.utils -   attention_mask: 1 1 1 1 1 1 1 1 1 1 1 1 1 1 1 1 1 1 1 1 1 0 0 0 0 0 0 0 0 0 0 0 0 0 0 0 0 0 0 0 0 0 0 0 0 0 0 0 0 0 0 0 0 0 0 0 0 0 0 0 0 0 0 0\n",
      "06/05/2021 22:45:50 - INFO - finbert.utils -   token_type_ids: 0 0 0 0 0 0 0 0 0 0 0 0 0 0 0 0 0 0 0 0 0 0 0 0 0 0 0 0 0 0 0 0 0 0 0 0 0 0 0 0 0 0 0 0 0 0 0 0 0 0 0 0 0 0 0 0 0 0 0 0 0 0 0 0\n",
      "06/05/2021 22:45:50 - INFO - finbert.utils -   label: None (id = 9090)\n",
      "06/05/2021 22:45:50 - INFO - root -   tensor([[-1.5499,  2.2961, -0.7205]])\n",
      "06/05/2021 22:45:54 - INFO - finbert.utils -   *** Example ***\n",
      "06/05/2021 22:45:54 - INFO - finbert.utils -   guid: 0\n",
      "06/05/2021 22:45:54 - INFO - finbert.utils -   tokens: [CLS] here ' s how much investing $ 1 , 000 in microsoft at dot - com bubble peak would be worth today [SEP]\n",
      "06/05/2021 22:45:54 - INFO - finbert.utils -   input_ids: 101 2182 1005 1055 2129 2172 19920 1002 1015 1010 2199 1999 7513 2012 11089 1011 4012 11957 4672 2052 2022 4276 2651 102 0 0 0 0 0 0 0 0 0 0 0 0 0 0 0 0 0 0 0 0 0 0 0 0 0 0 0 0 0 0 0 0 0 0 0 0 0 0 0 0\n",
      "06/05/2021 22:45:54 - INFO - finbert.utils -   attention_mask: 1 1 1 1 1 1 1 1 1 1 1 1 1 1 1 1 1 1 1 1 1 1 1 1 0 0 0 0 0 0 0 0 0 0 0 0 0 0 0 0 0 0 0 0 0 0 0 0 0 0 0 0 0 0 0 0 0 0 0 0 0 0 0 0\n",
      "06/05/2021 22:45:54 - INFO - finbert.utils -   token_type_ids: 0 0 0 0 0 0 0 0 0 0 0 0 0 0 0 0 0 0 0 0 0 0 0 0 0 0 0 0 0 0 0 0 0 0 0 0 0 0 0 0 0 0 0 0 0 0 0 0 0 0 0 0 0 0 0 0 0 0 0 0 0 0 0 0\n",
      "06/05/2021 22:45:54 - INFO - finbert.utils -   label: None (id = 9090)\n",
      "06/05/2021 22:45:54 - INFO - root -   tensor([[-1.7657, -0.8556,  2.4296]])\n",
      "06/05/2021 22:45:59 - INFO - finbert.utils -   *** Example ***\n",
      "06/05/2021 22:45:59 - INFO - finbert.utils -   guid: 0\n",
      "06/05/2021 22:45:59 - INFO - finbert.utils -   tokens: [CLS] microsoft ( ms ##ft ) dip ##s more than broader markets : what you should know [SEP]\n",
      "06/05/2021 22:45:59 - INFO - finbert.utils -   input_ids: 101 7513 1006 5796 6199 1007 16510 2015 2062 2084 12368 6089 1024 2054 2017 2323 2113 102 0 0 0 0 0 0 0 0 0 0 0 0 0 0 0 0 0 0 0 0 0 0 0 0 0 0 0 0 0 0 0 0 0 0 0 0 0 0 0 0 0 0 0 0 0 0\n",
      "06/05/2021 22:45:59 - INFO - finbert.utils -   attention_mask: 1 1 1 1 1 1 1 1 1 1 1 1 1 1 1 1 1 1 0 0 0 0 0 0 0 0 0 0 0 0 0 0 0 0 0 0 0 0 0 0 0 0 0 0 0 0 0 0 0 0 0 0 0 0 0 0 0 0 0 0 0 0 0 0\n",
      "06/05/2021 22:45:59 - INFO - finbert.utils -   token_type_ids: 0 0 0 0 0 0 0 0 0 0 0 0 0 0 0 0 0 0 0 0 0 0 0 0 0 0 0 0 0 0 0 0 0 0 0 0 0 0 0 0 0 0 0 0 0 0 0 0 0 0 0 0 0 0 0 0 0 0 0 0 0 0 0 0\n",
      "06/05/2021 22:45:59 - INFO - finbert.utils -   label: None (id = 9090)\n",
      "06/05/2021 22:45:59 - INFO - root -   tensor([[-2.1231,  1.5416,  0.1667]])\n",
      "06/05/2021 22:46:04 - INFO - finbert.utils -   *** Example ***\n",
      "06/05/2021 22:46:04 - INFO - finbert.utils -   guid: 0\n",
      "06/05/2021 22:46:04 - INFO - finbert.utils -   tokens: [CLS] neither microsoft nor oracle gets to buy ti ##kt ##ok us : chinese state media [SEP]\n",
      "06/05/2021 22:46:04 - INFO - finbert.utils -   input_ids: 101 4445 7513 4496 14721 4152 2000 4965 14841 25509 6559 2149 1024 2822 2110 2865 102 0 0 0 0 0 0 0 0 0 0 0 0 0 0 0 0 0 0 0 0 0 0 0 0 0 0 0 0 0 0 0 0 0 0 0 0 0 0 0 0 0 0 0 0 0 0 0\n",
      "06/05/2021 22:46:04 - INFO - finbert.utils -   attention_mask: 1 1 1 1 1 1 1 1 1 1 1 1 1 1 1 1 1 0 0 0 0 0 0 0 0 0 0 0 0 0 0 0 0 0 0 0 0 0 0 0 0 0 0 0 0 0 0 0 0 0 0 0 0 0 0 0 0 0 0 0 0 0 0 0\n",
      "06/05/2021 22:46:04 - INFO - finbert.utils -   token_type_ids: 0 0 0 0 0 0 0 0 0 0 0 0 0 0 0 0 0 0 0 0 0 0 0 0 0 0 0 0 0 0 0 0 0 0 0 0 0 0 0 0 0 0 0 0 0 0 0 0 0 0 0 0 0 0 0 0 0 0 0 0 0 0 0 0\n",
      "06/05/2021 22:46:04 - INFO - finbert.utils -   label: None (id = 9090)\n",
      "06/05/2021 22:46:04 - INFO - root -   tensor([[-1.3244, -1.3347,  2.7121]])\n",
      "06/05/2021 22:46:09 - INFO - finbert.utils -   *** Example ***\n",
      "06/05/2021 22:46:09 - INFO - finbert.utils -   guid: 0\n",
      "06/05/2021 22:46:09 - INFO - finbert.utils -   tokens: [CLS] when should you buy microsoft corporation ( nas ##da ##q : ms ##ft ) ? [SEP]\n",
      "06/05/2021 22:46:09 - INFO - finbert.utils -   input_ids: 101 2043 2323 2017 4965 7513 3840 1006 17235 2850 4160 1024 5796 6199 1007 1029 102 0 0 0 0 0 0 0 0 0 0 0 0 0 0 0 0 0 0 0 0 0 0 0 0 0 0 0 0 0 0 0 0 0 0 0 0 0 0 0 0 0 0 0 0 0 0 0\n",
      "06/05/2021 22:46:09 - INFO - finbert.utils -   attention_mask: 1 1 1 1 1 1 1 1 1 1 1 1 1 1 1 1 1 0 0 0 0 0 0 0 0 0 0 0 0 0 0 0 0 0 0 0 0 0 0 0 0 0 0 0 0 0 0 0 0 0 0 0 0 0 0 0 0 0 0 0 0 0 0 0\n",
      "06/05/2021 22:46:09 - INFO - finbert.utils -   token_type_ids: 0 0 0 0 0 0 0 0 0 0 0 0 0 0 0 0 0 0 0 0 0 0 0 0 0 0 0 0 0 0 0 0 0 0 0 0 0 0 0 0 0 0 0 0 0 0 0 0 0 0 0 0 0 0 0 0 0 0 0 0 0 0 0 0\n",
      "06/05/2021 22:46:09 - INFO - finbert.utils -   label: None (id = 9090)\n",
      "06/05/2021 22:46:09 - INFO - root -   tensor([[-1.6241, -1.0847,  2.4681]])\n",
      "06/05/2021 22:46:14 - INFO - finbert.utils -   *** Example ***\n",
      "06/05/2021 22:46:14 - INFO - finbert.utils -   guid: 0\n",
      "06/05/2021 22:46:14 - INFO - finbert.utils -   tokens: [CLS] factors you must note ahead of microsoft ' s ( ms ##ft ) q ##1 earnings [SEP]\n",
      "06/05/2021 22:46:14 - INFO - finbert.utils -   input_ids: 101 5876 2017 2442 3602 3805 1997 7513 1005 1055 1006 5796 6199 1007 1053 2487 16565 102 0 0 0 0 0 0 0 0 0 0 0 0 0 0 0 0 0 0 0 0 0 0 0 0 0 0 0 0 0 0 0 0 0 0 0 0 0 0 0 0 0 0 0 0 0 0\n",
      "06/05/2021 22:46:14 - INFO - finbert.utils -   attention_mask: 1 1 1 1 1 1 1 1 1 1 1 1 1 1 1 1 1 1 0 0 0 0 0 0 0 0 0 0 0 0 0 0 0 0 0 0 0 0 0 0 0 0 0 0 0 0 0 0 0 0 0 0 0 0 0 0 0 0 0 0 0 0 0 0\n",
      "06/05/2021 22:46:14 - INFO - finbert.utils -   token_type_ids: 0 0 0 0 0 0 0 0 0 0 0 0 0 0 0 0 0 0 0 0 0 0 0 0 0 0 0 0 0 0 0 0 0 0 0 0 0 0 0 0 0 0 0 0 0 0 0 0 0 0 0 0 0 0 0 0 0 0 0 0 0 0 0 0\n",
      "06/05/2021 22:46:14 - INFO - finbert.utils -   label: None (id = 9090)\n",
      "06/05/2021 22:46:14 - INFO - root -   tensor([[-1.6583, -0.9330,  2.7473]])\n",
      "06/05/2021 22:46:19 - INFO - finbert.utils -   *** Example ***\n",
      "06/05/2021 22:46:19 - INFO - finbert.utils -   guid: 0\n",
      "06/05/2021 22:46:19 - INFO - finbert.utils -   tokens: [CLS] ave ##point , the largest microsoft 365 data management solutions provider , announces $ 2 ##bn merger [SEP]\n",
      "06/05/2021 22:46:19 - INFO - finbert.utils -   input_ids: 101 13642 8400 1010 1996 2922 7513 19342 2951 2968 7300 10802 1010 17472 1002 1016 24700 7660 102 0 0 0 0 0 0 0 0 0 0 0 0 0 0 0 0 0 0 0 0 0 0 0 0 0 0 0 0 0 0 0 0 0 0 0 0 0 0 0 0 0 0 0 0 0\n",
      "06/05/2021 22:46:19 - INFO - finbert.utils -   attention_mask: 1 1 1 1 1 1 1 1 1 1 1 1 1 1 1 1 1 1 1 0 0 0 0 0 0 0 0 0 0 0 0 0 0 0 0 0 0 0 0 0 0 0 0 0 0 0 0 0 0 0 0 0 0 0 0 0 0 0 0 0 0 0 0 0\n",
      "06/05/2021 22:46:19 - INFO - finbert.utils -   token_type_ids: 0 0 0 0 0 0 0 0 0 0 0 0 0 0 0 0 0 0 0 0 0 0 0 0 0 0 0 0 0 0 0 0 0 0 0 0 0 0 0 0 0 0 0 0 0 0 0 0 0 0 0 0 0 0 0 0 0 0 0 0 0 0 0 0\n",
      "06/05/2021 22:46:19 - INFO - finbert.utils -   label: None (id = 9090)\n",
      "06/05/2021 22:46:19 - INFO - root -   tensor([[-0.2836, -1.6160,  2.1237]])\n",
      "06/05/2021 22:46:24 - INFO - finbert.utils -   *** Example ***\n",
      "06/05/2021 22:46:24 - INFO - finbert.utils -   guid: 0\n",
      "06/05/2021 22:46:24 - INFO - finbert.utils -   tokens: [CLS] will microsoft ' s stock reach $ 300 by 202 ##2 ? [SEP]\n",
      "06/05/2021 22:46:24 - INFO - finbert.utils -   input_ids: 101 2097 7513 1005 1055 4518 3362 1002 3998 2011 16798 2475 1029 102 0 0 0 0 0 0 0 0 0 0 0 0 0 0 0 0 0 0 0 0 0 0 0 0 0 0 0 0 0 0 0 0 0 0 0 0 0 0 0 0 0 0 0 0 0 0 0 0 0 0\n",
      "06/05/2021 22:46:24 - INFO - finbert.utils -   attention_mask: 1 1 1 1 1 1 1 1 1 1 1 1 1 1 0 0 0 0 0 0 0 0 0 0 0 0 0 0 0 0 0 0 0 0 0 0 0 0 0 0 0 0 0 0 0 0 0 0 0 0 0 0 0 0 0 0 0 0 0 0 0 0 0 0\n",
      "06/05/2021 22:46:24 - INFO - finbert.utils -   token_type_ids: 0 0 0 0 0 0 0 0 0 0 0 0 0 0 0 0 0 0 0 0 0 0 0 0 0 0 0 0 0 0 0 0 0 0 0 0 0 0 0 0 0 0 0 0 0 0 0 0 0 0 0 0 0 0 0 0 0 0 0 0 0 0 0 0\n",
      "06/05/2021 22:46:24 - INFO - finbert.utils -   label: None (id = 9090)\n",
      "06/05/2021 22:46:24 - INFO - root -   tensor([[-0.3550, -1.7128,  2.1725]])\n",
      "06/05/2021 22:46:29 - INFO - finbert.utils -   *** Example ***\n",
      "06/05/2021 22:46:29 - INFO - finbert.utils -   guid: 0\n",
      "06/05/2021 22:46:29 - INFO - finbert.utils -   tokens: [CLS] microsoft designing its own chips for servers , surface pcs [SEP]\n",
      "06/05/2021 22:46:29 - INFO - finbert.utils -   input_ids: 101 7513 12697 2049 2219 11772 2005 14903 1010 3302 27019 102 0 0 0 0 0 0 0 0 0 0 0 0 0 0 0 0 0 0 0 0 0 0 0 0 0 0 0 0 0 0 0 0 0 0 0 0 0 0 0 0 0 0 0 0 0 0 0 0 0 0 0 0\n",
      "06/05/2021 22:46:29 - INFO - finbert.utils -   attention_mask: 1 1 1 1 1 1 1 1 1 1 1 1 0 0 0 0 0 0 0 0 0 0 0 0 0 0 0 0 0 0 0 0 0 0 0 0 0 0 0 0 0 0 0 0 0 0 0 0 0 0 0 0 0 0 0 0 0 0 0 0 0 0 0 0\n",
      "06/05/2021 22:46:29 - INFO - finbert.utils -   token_type_ids: 0 0 0 0 0 0 0 0 0 0 0 0 0 0 0 0 0 0 0 0 0 0 0 0 0 0 0 0 0 0 0 0 0 0 0 0 0 0 0 0 0 0 0 0 0 0 0 0 0 0 0 0 0 0 0 0 0 0 0 0 0 0 0 0\n",
      "06/05/2021 22:46:29 - INFO - finbert.utils -   label: None (id = 9090)\n",
      "06/05/2021 22:46:29 - INFO - root -   tensor([[-1.2581, -1.2866,  2.8172]])\n",
      "06/05/2021 22:46:34 - INFO - finbert.utils -   *** Example ***\n",
      "06/05/2021 22:46:34 - INFO - finbert.utils -   guid: 0\n",
      "06/05/2021 22:46:34 - INFO - finbert.utils -   tokens: [CLS] here is why microsoft ( ms ##ft ) is the best faa ##mg stock for 2021 [SEP]\n",
      "06/05/2021 22:46:34 - INFO - finbert.utils -   input_ids: 101 2182 2003 2339 7513 1006 5796 6199 1007 2003 1996 2190 17032 24798 4518 2005 25682 102 0 0 0 0 0 0 0 0 0 0 0 0 0 0 0 0 0 0 0 0 0 0 0 0 0 0 0 0 0 0 0 0 0 0 0 0 0 0 0 0 0 0 0 0 0 0\n",
      "06/05/2021 22:46:34 - INFO - finbert.utils -   attention_mask: 1 1 1 1 1 1 1 1 1 1 1 1 1 1 1 1 1 1 0 0 0 0 0 0 0 0 0 0 0 0 0 0 0 0 0 0 0 0 0 0 0 0 0 0 0 0 0 0 0 0 0 0 0 0 0 0 0 0 0 0 0 0 0 0\n",
      "06/05/2021 22:46:34 - INFO - finbert.utils -   token_type_ids: 0 0 0 0 0 0 0 0 0 0 0 0 0 0 0 0 0 0 0 0 0 0 0 0 0 0 0 0 0 0 0 0 0 0 0 0 0 0 0 0 0 0 0 0 0 0 0 0 0 0 0 0 0 0 0 0 0 0 0 0 0 0 0 0\n",
      "06/05/2021 22:46:34 - INFO - finbert.utils -   label: None (id = 9090)\n",
      "06/05/2021 22:46:34 - INFO - root -   tensor([[-0.0910, -1.9447,  2.4583]])\n"
     ]
    }
   ],
   "source": [
    "results = pd.DataFrame()\n",
    "for i in range(20):\n",
    "    text = df.loc[i,'title']\n",
    "    result = predict(text, model)\n",
    "    blob = TextBlob(text)\n",
    "    result['textblob_prediction'] = [sentence.sentiment.polarity for sentence in blob.sentences]\n",
    "    results = results.append(result, ignore_index=True)"
   ]
  },
  {
   "cell_type": "code",
   "execution_count": 4,
   "metadata": {},
   "outputs": [
    {
     "output_type": "execute_result",
     "data": {
      "text/plain": [
       "                                                                                                         sentence  \\\n",
       "0   If You Own Apple (AAPL) Stock, Should You Sell It Now?                                                          \n",
       "1   Apple (AAPL) Upgraded to Strong Buy: Here's Why                                                                 \n",
       "2   Apple (AAPL): Bull of the Day                                                                                   \n",
       "3   Apple Inc.'s (NASDAQ:AAPL) Share Price Not Quite Adding Up                                                      \n",
       "4   Apple Inc (AAPL) CEO Timothy D Cook Sold $131.8 million of Shares                                               \n",
       "5   Apple (AAPL) Has Risen 98% in Last One Year, Outperforms Market                                                 \n",
       "6   Brace Yourself for a Sharp Rise in Inflation                                                                    \n",
       "7   Tesla Gets $2,500 3-Year Target From Munster, But Analyst Sees Apple As A Roadblock In EV Maker's Path          \n",
       "8   Exclusive: Apple targets car production by 2024 and eyes 'next level' battery technology - sources              \n",
       "9   Apple reportedly working on an electric car sends the stock of this Bill Gates-backed battery startup surging   \n",
       "10  Stock market news live updates: Stocks walloped as September selling sets in; tech stocks swoon                 \n",
       "11  Here's How Much Investing $1,000 In Microsoft At Dot-Com Bubble Peak Would Be Worth Today                       \n",
       "12  Microsoft (MSFT) Dips More Than Broader Markets: What You Should Know                                           \n",
       "13  Neither Microsoft nor Oracle gets to buy TikTok US: Chinese state media                                         \n",
       "14  When Should You Buy Microsoft Corporation (NASDAQ:MSFT)?                                                        \n",
       "15  Factors You Must Note Ahead of Microsoft's (MSFT) Q1 Earnings                                                   \n",
       "16  AvePoint, the Largest Microsoft 365 Data Management Solutions Provider, Announces $2bn Merger                   \n",
       "17  Will Microsoft's Stock Reach $300 By 2022?                                                                      \n",
       "18  Microsoft Designing Its Own Chips for Servers, Surface PCs                                                      \n",
       "19  Here is Why Microsoft (MSFT) is the Best FAAMG Stock for 2021                                                   \n",
       "\n",
       "                                     logit prediction  sentiment_score  \\\n",
       "0   [0.012807425, 0.038053326, 0.9491393]   neutral   -0.025246          \n",
       "1   [0.8442952, 0.009305688, 0.14639913]    positive   0.834989          \n",
       "2   [0.8572408, 0.022612732, 0.12014642]    positive   0.834628          \n",
       "3   [0.042672113, 0.8986128, 0.058715057]   negative  -0.855941          \n",
       "4   [0.011218424, 0.032685027, 0.9560966]   neutral   -0.021467          \n",
       "5   [0.96862966, 0.019872326, 0.011498033]  positive   0.948757          \n",
       "6   [0.14527018, 0.29884762, 0.5558822]     neutral   -0.153577          \n",
       "7   [0.2404817, 0.3526927, 0.40682557]      neutral   -0.112211          \n",
       "8   [0.017024903, 0.013253736, 0.96972144]  neutral    0.003771          \n",
       "9   [0.021447763, 0.94124424, 0.037307967]  negative  -0.919796          \n",
       "10  [0.019962428, 0.9342839, 0.04575361]    negative  -0.914321          \n",
       "11  [0.014315805, 0.03556534, 0.95011884]   neutral   -0.021250          \n",
       "12  [0.020032363, 0.7821912, 0.19777647]    negative  -0.762159          \n",
       "13  [0.01705984, 0.016884917, 0.9660552]    neutral    0.000175          \n",
       "14  [0.015977789, 0.027402803, 0.9566194]   neutral   -0.011425          \n",
       "15  [0.011768353, 0.024306452, 0.9639252]   neutral   -0.012538          \n",
       "16  [0.08085233, 0.021332424, 0.8978152]    neutral    0.059520          \n",
       "17  [0.07257368, 0.018666826, 0.9087595]    neutral    0.053907          \n",
       "18  [0.016435988, 0.015973624, 0.9675904]   neutral    0.000462          \n",
       "19  [0.07166007, 0.011225823, 0.91711414]   neutral    0.060434          \n",
       "\n",
       "    textblob_prediction  \n",
       "0   0.600000             \n",
       "1   0.433333             \n",
       "2   0.000000             \n",
       "3   0.000000             \n",
       "4   0.000000             \n",
       "5   0.000000             \n",
       "6  -0.125000             \n",
       "7   0.000000             \n",
       "8   0.000000             \n",
       "9   0.000000             \n",
       "10  0.136364             \n",
       "11  0.250000             \n",
       "12  0.500000             \n",
       "13  0.000000             \n",
       "14  0.000000             \n",
       "15  0.000000             \n",
       "16  0.000000             \n",
       "17  0.000000             \n",
       "18  0.600000             \n",
       "19  1.000000             "
      ],
      "text/html": "<div>\n<style scoped>\n    .dataframe tbody tr th:only-of-type {\n        vertical-align: middle;\n    }\n\n    .dataframe tbody tr th {\n        vertical-align: top;\n    }\n\n    .dataframe thead th {\n        text-align: right;\n    }\n</style>\n<table border=\"1\" class=\"dataframe\">\n  <thead>\n    <tr style=\"text-align: right;\">\n      <th></th>\n      <th>sentence</th>\n      <th>logit</th>\n      <th>prediction</th>\n      <th>sentiment_score</th>\n      <th>textblob_prediction</th>\n    </tr>\n  </thead>\n  <tbody>\n    <tr>\n      <th>0</th>\n      <td>If You Own Apple (AAPL) Stock, Should You Sell It Now?</td>\n      <td>[0.012807425, 0.038053326, 0.9491393]</td>\n      <td>neutral</td>\n      <td>-0.025246</td>\n      <td>0.600000</td>\n    </tr>\n    <tr>\n      <th>1</th>\n      <td>Apple (AAPL) Upgraded to Strong Buy: Here's Why</td>\n      <td>[0.8442952, 0.009305688, 0.14639913]</td>\n      <td>positive</td>\n      <td>0.834989</td>\n      <td>0.433333</td>\n    </tr>\n    <tr>\n      <th>2</th>\n      <td>Apple (AAPL): Bull of the Day</td>\n      <td>[0.8572408, 0.022612732, 0.12014642]</td>\n      <td>positive</td>\n      <td>0.834628</td>\n      <td>0.000000</td>\n    </tr>\n    <tr>\n      <th>3</th>\n      <td>Apple Inc.'s (NASDAQ:AAPL) Share Price Not Quite Adding Up</td>\n      <td>[0.042672113, 0.8986128, 0.058715057]</td>\n      <td>negative</td>\n      <td>-0.855941</td>\n      <td>0.000000</td>\n    </tr>\n    <tr>\n      <th>4</th>\n      <td>Apple Inc (AAPL) CEO Timothy D Cook Sold $131.8 million of Shares</td>\n      <td>[0.011218424, 0.032685027, 0.9560966]</td>\n      <td>neutral</td>\n      <td>-0.021467</td>\n      <td>0.000000</td>\n    </tr>\n    <tr>\n      <th>5</th>\n      <td>Apple (AAPL) Has Risen 98% in Last One Year, Outperforms Market</td>\n      <td>[0.96862966, 0.019872326, 0.011498033]</td>\n      <td>positive</td>\n      <td>0.948757</td>\n      <td>0.000000</td>\n    </tr>\n    <tr>\n      <th>6</th>\n      <td>Brace Yourself for a Sharp Rise in Inflation</td>\n      <td>[0.14527018, 0.29884762, 0.5558822]</td>\n      <td>neutral</td>\n      <td>-0.153577</td>\n      <td>-0.125000</td>\n    </tr>\n    <tr>\n      <th>7</th>\n      <td>Tesla Gets $2,500 3-Year Target From Munster, But Analyst Sees Apple As A Roadblock In EV Maker's Path</td>\n      <td>[0.2404817, 0.3526927, 0.40682557]</td>\n      <td>neutral</td>\n      <td>-0.112211</td>\n      <td>0.000000</td>\n    </tr>\n    <tr>\n      <th>8</th>\n      <td>Exclusive: Apple targets car production by 2024 and eyes 'next level' battery technology - sources</td>\n      <td>[0.017024903, 0.013253736, 0.96972144]</td>\n      <td>neutral</td>\n      <td>0.003771</td>\n      <td>0.000000</td>\n    </tr>\n    <tr>\n      <th>9</th>\n      <td>Apple reportedly working on an electric car sends the stock of this Bill Gates-backed battery startup surging</td>\n      <td>[0.021447763, 0.94124424, 0.037307967]</td>\n      <td>negative</td>\n      <td>-0.919796</td>\n      <td>0.000000</td>\n    </tr>\n    <tr>\n      <th>10</th>\n      <td>Stock market news live updates: Stocks walloped as September selling sets in; tech stocks swoon</td>\n      <td>[0.019962428, 0.9342839, 0.04575361]</td>\n      <td>negative</td>\n      <td>-0.914321</td>\n      <td>0.136364</td>\n    </tr>\n    <tr>\n      <th>11</th>\n      <td>Here's How Much Investing $1,000 In Microsoft At Dot-Com Bubble Peak Would Be Worth Today</td>\n      <td>[0.014315805, 0.03556534, 0.95011884]</td>\n      <td>neutral</td>\n      <td>-0.021250</td>\n      <td>0.250000</td>\n    </tr>\n    <tr>\n      <th>12</th>\n      <td>Microsoft (MSFT) Dips More Than Broader Markets: What You Should Know</td>\n      <td>[0.020032363, 0.7821912, 0.19777647]</td>\n      <td>negative</td>\n      <td>-0.762159</td>\n      <td>0.500000</td>\n    </tr>\n    <tr>\n      <th>13</th>\n      <td>Neither Microsoft nor Oracle gets to buy TikTok US: Chinese state media</td>\n      <td>[0.01705984, 0.016884917, 0.9660552]</td>\n      <td>neutral</td>\n      <td>0.000175</td>\n      <td>0.000000</td>\n    </tr>\n    <tr>\n      <th>14</th>\n      <td>When Should You Buy Microsoft Corporation (NASDAQ:MSFT)?</td>\n      <td>[0.015977789, 0.027402803, 0.9566194]</td>\n      <td>neutral</td>\n      <td>-0.011425</td>\n      <td>0.000000</td>\n    </tr>\n    <tr>\n      <th>15</th>\n      <td>Factors You Must Note Ahead of Microsoft's (MSFT) Q1 Earnings</td>\n      <td>[0.011768353, 0.024306452, 0.9639252]</td>\n      <td>neutral</td>\n      <td>-0.012538</td>\n      <td>0.000000</td>\n    </tr>\n    <tr>\n      <th>16</th>\n      <td>AvePoint, the Largest Microsoft 365 Data Management Solutions Provider, Announces $2bn Merger</td>\n      <td>[0.08085233, 0.021332424, 0.8978152]</td>\n      <td>neutral</td>\n      <td>0.059520</td>\n      <td>0.000000</td>\n    </tr>\n    <tr>\n      <th>17</th>\n      <td>Will Microsoft's Stock Reach $300 By 2022?</td>\n      <td>[0.07257368, 0.018666826, 0.9087595]</td>\n      <td>neutral</td>\n      <td>0.053907</td>\n      <td>0.000000</td>\n    </tr>\n    <tr>\n      <th>18</th>\n      <td>Microsoft Designing Its Own Chips for Servers, Surface PCs</td>\n      <td>[0.016435988, 0.015973624, 0.9675904]</td>\n      <td>neutral</td>\n      <td>0.000462</td>\n      <td>0.600000</td>\n    </tr>\n    <tr>\n      <th>19</th>\n      <td>Here is Why Microsoft (MSFT) is the Best FAAMG Stock for 2021</td>\n      <td>[0.07166007, 0.011225823, 0.91711414]</td>\n      <td>neutral</td>\n      <td>0.060434</td>\n      <td>1.000000</td>\n    </tr>\n  </tbody>\n</table>\n</div>"
     },
     "metadata": {},
     "execution_count": 4
    }
   ],
   "source": [
    "results"
   ]
  },
  {
   "cell_type": "code",
   "execution_count": 5,
   "metadata": {},
   "outputs": [],
   "source": [
    "results.to_csv(\"result.csv\", header=True, index=False)"
   ]
  },
  {
   "cell_type": "code",
   "execution_count": null,
   "metadata": {},
   "outputs": [],
   "source": []
  }
 ],
 "metadata": {
  "kernelspec": {
   "name": "python388jvsc74a57bd056d5fd15a1afc1e088a0860a3ebc38bcdc561bdb084a672b61589ad01b4a258c",
   "display_name": "Python 3.8.8 64-bit ('stock': conda)"
  },
  "language_info": {
   "codemirror_mode": {
    "name": "ipython",
    "version": 3
   },
   "file_extension": ".py",
   "mimetype": "text/x-python",
   "name": "python",
   "nbconvert_exporter": "python",
   "pygments_lexer": "ipython3",
   "version": "3.8.8"
  },
  "pycharm": {
   "stem_cell": {
    "cell_type": "raw",
    "metadata": {
     "collapsed": false
    },
    "source": []
   }
  },
  "toc": {
   "base_numbering": 1,
   "nav_menu": {},
   "number_sections": true,
   "sideBar": true,
   "skip_h1_title": true,
   "title_cell": "Table of Contents",
   "title_sidebar": "Contents",
   "toc_cell": false,
   "toc_position": {},
   "toc_section_display": true,
   "toc_window_display": true
  }
 },
 "nbformat": 4,
 "nbformat_minor": 2
}