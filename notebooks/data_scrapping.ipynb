{
 "metadata": {
  "language_info": {
   "codemirror_mode": {
    "name": "ipython",
    "version": 3
   },
   "file_extension": ".py",
   "mimetype": "text/x-python",
   "name": "python",
   "nbconvert_exporter": "python",
   "pygments_lexer": "ipython3",
   "version": "3.8.8"
  },
  "orig_nbformat": 2,
  "kernelspec": {
   "name": "python388jvsc74a57bd037541142f959125706e4bdd1d8783e9b29ba6c259489f953bef03ae2dc6e8926",
   "display_name": "Python 3.8.8 64-bit ('base': conda)"
  }
 },
 "nbformat": 4,
 "nbformat_minor": 2,
 "cells": [
  {
   "source": [
    "# Stock NLP Example Notebook\n",
    "This shows how to use the project."
   ],
   "cell_type": "markdown",
   "metadata": {}
  },
  {
   "cell_type": "code",
   "execution_count": 1,
   "metadata": {},
   "outputs": [],
   "source": [
    "from dateutil.parser import parse\n",
    "import sys\n",
    "sys.path.append('..')\n",
    "\n",
    "from stock_nlp.data_scrapper import *"
   ]
  },
  {
   "source": [
    "## 1. Scrape Yahoo Finance News according to tickers"
   ],
   "cell_type": "markdown",
   "metadata": {}
  },
  {
   "cell_type": "code",
   "execution_count": 2,
   "metadata": {
    "tags": []
   },
   "outputs": [
    {
     "output_type": "stream",
     "name": "stdout",
     "text": [
      "header: ['ticker', 'date', 'title', 'summary', 'url']\n  ticker                date  \\\n0   AAPL 2020-06-30 00:03:00   \n1   AAPL 2020-07-31 05:32:00   \n2   AAPL 2020-08-27 06:15:00   \n3   AAPL 2020-09-01 03:18:00   \n4   AAPL 2020-09-15 07:24:00   \n\n                                               title  \\\n0  If You Own Apple (AAPL) Stock, Should You Sell...   \n1  Apple earnings: Apple crushes Q3 expectations,...   \n2  Apple Inc (AAPL) CEO Timothy D Cook Sold $131....   \n3  The Splits: Understanding AAPL and TSLA Post-S...   \n4     All Eyes on Apple’s Product Announcement Event   \n\n                                             summary  \\\n0  Wedgewood Partners, an investment management f...   \n1  Apple (AAPL) reported its Q3 2020 earnings on ...   \n2  CEO Timothy D Cook sold 265,160 shares of AAPL...   \n3  ... the Nasdaq 100 remains buoyant following t...   \n4  It's September, and you know what that means, ...   \n\n                                                 url  \n0  https://finance.yahoo.com/news/own-apple-aapl-...  \n1  https://finance.yahoo.com/news/apple-q3-earnin...  \n2  https://finance.yahoo.com/news/apple-inc-aapl-...  \n3  https://finance.yahoo.com/news/splits-understa...  \n4  https://finance.yahoo.com/news/eyes-apple-prod...  \n   ticker                date  \\\n15   MSFT 2020-11-12 01:24:00   \n16   MSFT 2020-12-11 02:54:00   \n17   MSFT 2020-12-12 04:33:00   \n18   MSFT 2020-12-19 10:26:00   \n19   MSFT 2020-12-28 23:40:00   \n\n                                                title  \\\n15  Microsoft (MSFT) Next-Generation Xbox Consoles...   \n16  Microsoft (MSFT) to Extend Cloud Gaming to iOS...   \n17         Will Microsoft's Stock Reach $300 By 2022?   \n18  Microsoft Designing Its Own Chips for Servers,...   \n19  Here is Why Microsoft (MSFT) is the Best FAAMG...   \n\n                                              summary  \\\n15  Microsoft is looking to boost its market share...   \n16  Microsoft Corporation MSFT recently announced ...   \n17  We surveyed a group of over 300 investors on w...   \n18  Please try again later. More content below. Oo...   \n19  These stocks include Facebook FB, Apple AAPL, ...   \n\n                                                  url  \n15  https://finance.yahoo.com/news/microsoft-msft-...  \n16  https://finance.yahoo.com/news/microsoft-msft-...  \n17  https://finance.yahoo.com/news/microsofts-stoc...  \n18  https://finance.yahoo.com/news/microsoft-desig...  \n19  https://finance.yahoo.com/news/why-microsoft-m...  \n"
     ]
    }
   ],
   "source": [
    "tickers = ['aapl', 'msft']\n",
    "start_date = parse('2020-01-01')\n",
    "end_date = parse('2020-12-31')\n",
    "\n",
    "df = get_yfnews_overview(tickers, start_date, end_date, max_page=1)\n",
    "\n",
    "print(\"header:\", list(df.columns))\n",
    "print(df.head())\n",
    "print(df.tail())"
   ]
  },
  {
   "cell_type": "code",
   "execution_count": 11,
   "metadata": {},
   "outputs": [
    {
     "output_type": "stream",
     "name": "stdout",
     "text": [
      "date: 2020-06-30 00:03:00\ntitle: If You Own Apple (AAPL) Stock, Should You Sell It Now?\nIf you are looking for the best ideas for your portfolio you may want to consider some of Wedgewood Partners top stock picks. Wedgewood Partners, an investment management firm, reduced its exposure to Apple Inc. (NASDAQ:AAPL) stock. In its Q4 2019 investor letter – you can download a copy here – the firm discussed its investment thesis on Apple Inc. (NASDAQ:AAPL) stock. Apple Inc. (NASDAQ:AAPL) is a technology company based in California. The stock is up 11.6% since the Wedgewood Partners pitch in January 2020.\n"
     ]
    }
   ],
   "source": [
    "news_url = df['url'][0]\n",
    "news = get_yfnews_detail(news_url)\n",
    "\n",
    "print('date:', news['date'])\n",
    "print('title:', news['title'])\n",
    "print(news['body'].split('\\n')[0])"
   ]
  },
  {
   "cell_type": "code",
   "execution_count": null,
   "metadata": {},
   "outputs": [],
   "source": [
    "df.to_csv(\"scrap_table.csv\", index=False)"
   ]
  },
  {
   "source": [
    "## 2. Scrape Reddit Data according to the tickers"
   ],
   "cell_type": "markdown",
   "metadata": {}
  },
  {
   "cell_type": "code",
   "execution_count": null,
   "metadata": {},
   "outputs": [],
   "source": []
  }
 ]
}