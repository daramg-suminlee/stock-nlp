{
 "metadata": {
  "language_info": {
   "codemirror_mode": {
    "name": "ipython",
    "version": 3
   },
   "file_extension": ".py",
   "mimetype": "text/x-python",
   "name": "python",
   "nbconvert_exporter": "python",
   "pygments_lexer": "ipython3",
   "version": "3.8.8"
  },
  "orig_nbformat": 2,
  "kernelspec": {
   "name": "python388jvsc74a57bd037541142f959125706e4bdd1d8783e9b29ba6c259489f953bef03ae2dc6e8926",
   "display_name": "Python 3.8.8 64-bit ('base': conda)"
  }
 },
 "nbformat": 4,
 "nbformat_minor": 2,
 "cells": [
  {
   "source": [
    "# Stock NLP Example Notebook\n",
    "This shows how to use the project."
   ],
   "cell_type": "markdown",
   "metadata": {}
  },
  {
   "cell_type": "code",
   "execution_count": 1,
   "metadata": {},
   "outputs": [],
   "source": [
    "from dateutil.parser import parse\n",
    "import sys\n",
    "sys.path.append('..')\n",
    "\n",
    "from stock_nlp.data_scrapper import *"
   ]
  },
  {
   "source": [
    "## Scrap Yahoo Finance News according to tickers"
   ],
   "cell_type": "markdown",
   "metadata": {}
  },
  {
   "cell_type": "code",
   "execution_count": 2,
   "metadata": {
    "tags": []
   },
   "outputs": [
    {
     "output_type": "stream",
     "name": "stdout",
     "text": [
      "header: ['ticker', 'date', 'title', 'summary', 'url']\n  ticker                date  \\\n0   AAPL 2020-06-30 00:03:00   \n1   AAPL 2020-07-31 05:32:00   \n2   AAPL 2020-08-07 01:00:00   \n3   AAPL 2020-08-27 06:15:00   \n4   AAPL 2020-09-01 03:18:00   \n\n                                               title  \\\n0  If You Own Apple (AAPL) Stock, Should You Sell...   \n1  Apple earnings: Apple crushes Q3 expectations,...   \n2    Apple (AAPL) Upgraded to Strong Buy: Here's Why   \n3  Apple Inc (AAPL) CEO Timothy D Cook Sold $131....   \n4  The Splits: Understanding AAPL and TSLA Post-S...   \n\n                                             summary  \\\n0  Wedgewood Partners, an investment management f...   \n1  Apple (AAPL) reported its Q3 2020 earnings on ...   \n2  Apple (AAPL) could be a solid addition to your...   \n3  CEO Timothy D Cook sold 265,160 shares of AAPL...   \n4  ... the Nasdaq 100 remains buoyant following t...   \n\n                                                 url  \n0  https://finance.yahoo.com/news/own-apple-aapl-...  \n1  https://finance.yahoo.com/news/apple-q3-earnin...  \n2  https://finance.yahoo.com/news/apple-aapl-upgr...  \n3  https://finance.yahoo.com/news/apple-inc-aapl-...  \n4  https://finance.yahoo.com/news/splits-understa...  \n   ticker                date  \\\n15   MSFT 2020-11-12 01:24:00   \n16   MSFT 2020-12-11 02:54:00   \n17   MSFT 2020-12-12 04:33:00   \n18   MSFT 2020-12-19 10:26:00   \n19   MSFT 2020-12-28 23:40:00   \n\n                                                title  \\\n15  Microsoft (MSFT) Next-Generation Xbox Consoles...   \n16  Microsoft (MSFT) to Extend Cloud Gaming to iOS...   \n17         Will Microsoft's Stock Reach $300 By 2022?   \n18  Microsoft Designing Its Own Chips for Servers,...   \n19  Here is Why Microsoft (MSFT) is the Best FAAMG...   \n\n                                              summary  \\\n15  Microsoft is looking to boost its market share...   \n16  Microsoft Corporation MSFT recently announced ...   \n17  We surveyed a group of over 300 investors on w...   \n18  Please try again later. More content below. Oo...   \n19  These stocks include Facebook FB, Apple AAPL, ...   \n\n                                                  url  \n15  https://finance.yahoo.com/news/microsoft-msft-...  \n16  https://finance.yahoo.com/news/microsoft-msft-...  \n17  https://finance.yahoo.com/news/microsofts-stoc...  \n18  https://finance.yahoo.com/news/microsoft-desig...  \n19  https://finance.yahoo.com/news/why-microsoft-m...  \n"
     ]
    }
   ],
   "source": [
    "tickers = ['aapl', 'msft']\n",
    "start_date = parse('2020-01-01')\n",
    "end_date = parse('2020-12-31')\n",
    "\n",
    "df = get_yfnews_overview(tickers, start_date, end_date, max_page=1)\n",
    "\n",
    "print(\"header:\", list(df.columns))\n",
    "print(df.head())\n",
    "print(df.tail())"
   ]
  },
  {
   "source": [
    "## Scrap Yahoo Finance News Detail"
   ],
   "cell_type": "markdown",
   "metadata": {}
  },
  {
   "cell_type": "code",
   "execution_count": 3,
   "metadata": {},
   "outputs": [
    {
     "output_type": "stream",
     "name": "stdout",
     "text": [
      "date: 2020-06-30 00:03:00\ntitle: If You Own Apple (AAPL) Stock, Should You Sell It Now?\nIf you are looking for the best ideas for your portfolio you may want to consider some of Wedgewood Partners top stock picks. Wedgewood Partners, an investment management firm, reduced its exposure to Apple Inc. (NASDAQ:AAPL) stock. In its Q4 2019 investor letter – you can download a copy here – the firm discussed its investment thesis on Apple Inc. (NASDAQ:AAPL) stock. Apple Inc. (NASDAQ:AAPL) is a technology company based in California. The stock is up 11.6% since the Wedgewood Partners pitch in January 2020.\nOn January 13, 2020, Wedgewood Partners had released its Q4 2019 Investor Letter. Wedgewood said that Apple Inc. (NASDAQ:AAPL) was a top contributor to its performance during the fourth quarter of 2019. Apple Inc. (NASDAQ:AAPL) stock positively impacted Wedgewood’s return by 2.46% in the fourth quarter of 2019.\nMeanwhile, the upcoming next-generation 5G product cycle is expected to boost Apple's sales and earnings. As a result, there is a possibility that Apple Inc. (NASDAQ:AAPL) stock could continue to rise.\nFor the quarter ended December 31st, 2019, Wedgewood Partners fund recorded a return of 9.57%, compared to 10.62% of Russell 1000 Growth Index and 9.07% of S&P 500 Index. This brings its 2019 full-year return to 31.96%, compared to 36.39% of Russell 1000 Growth Index and 31.49% of S&P 500 Index.\nLet’s take a look at comments made by Wedgewood about Apple Inc. (NASDAQ:AAPL) in the letter.\n\"Apple reported better growth than investors were expecting, as the Company’s foreignexchange-neutral revenues in China recovered to positive growth. Apple’s shares finished substantially higher for the year, driven by earnings multiple expansion we believe to be related to expectations for the Company’s upcoming next-generation 5G product cycle. We trimmed our outsized Apple positions in order to fund new portfolio holdings, bringing our weighting to around 9%. Remarkably, the Russell 1000 Growth Index consists of over 500 holdings yet carries a weighting in Apple at over 8.5% (and about 4.5% in the S&P 500).\"\nStory continues\nApple Inc.\nIn Q1 2020, the number of bullish hedge fund positions on Apple Inc. (NASDAQ:AAPL) stock increased by about 3% from the previous quarter (see the chart here). Our calculations showed that Apple Inc. (NASDAQ:AAPL) is ranked #10 among the 30 most popular stocks among hedge funds.\nThe top 10 stocks among hedge funds returned 185% since the end of 2014 and outperformed the S&P 500 Index ETFs by more than 109 percentage points. We know it sounds unbelievable. You have been dismissing our articles about top hedge fund stocks mostly because you were fed biased information by other media outlets about hedge funds' poor performance. You could have doubled the size of your nest egg by investing in the top hedge fund stocks instead of dumb S&P 500 ETFs. Below you can watch our video about the top 5 hedge fund stocks right now. All of these stocks had positive returns in 2020.\nVideo: Top 5 Stocks Among Hedge Funds\nAt Insider Monkey we leave no stone unturned when looking for the next great investment idea. For example, 2020’s unprecedented market conditions provide us with the highest number of trading opportunities in a decade. So we are checking out stocks recommended/scorned by legendary Bill Miller. We interview hedge fund managers and ask them about their best ideas. If you want to find out the best healthcare stock to buy right now, you can watch our latest hedge fund manager interview here. We read hedge fund investor letters and listen to stock pitches at hedge fund conferences. Our best call in 2020 was shorting the market when the S&P 500 was trading at 3150 after realizing the coronavirus pandemic’s significance before most investors. You can subscribe to our free enewsletter below to receive our stories in your inbox:\n[daily-newsletter][/daily-newsletter]\nDisclosure: None. This article is originally published at Insider Monkey.\n"
     ]
    }
   ],
   "source": [
    "news_url = df['url'][0]\n",
    "news = get_yfnews_detail(news_url)\n",
    "\n",
    "print('date:', news['date'])\n",
    "print('title:', news['title'])\n",
    "print(news['body'])"
   ]
  }
 ]
}